{
 "cells": [
  {
   "cell_type": "code",
   "execution_count": 42,
   "id": "637f279c",
   "metadata": {},
   "outputs": [],
   "source": [
    "import cv2\n",
    "import imutils\n",
    "import numpy as np\n",
    "import pytesseract"
   ]
  },
  {
   "cell_type": "code",
   "execution_count": 43,
   "id": "d13d6e6b",
   "metadata": {},
   "outputs": [],
   "source": [
    "img = cv2.imread('/home/mark/programs/python_programs/license_plate_recognition/license_plates/20220125_124416.jpg',\n",
    "                 cv2.IMREAD_COLOR)  # Path to image\n",
    "img = cv2.resize(img, (600, 400))"
   ]
  },
  {
   "cell_type": "code",
   "execution_count": 44,
   "id": "b0a08182",
   "metadata": {},
   "outputs": [],
   "source": [
    "gray = cv2.cvtColor(img, cv2.COLOR_BGR2GRAY)\n",
    "gray = cv2.bilateralFilter(gray, 13, 15, 15)"
   ]
  },
  {
   "cell_type": "code",
   "execution_count": 45,
   "id": "6d185f9f",
   "metadata": {},
   "outputs": [],
   "source": [
    "edged = cv2.Canny(gray, 30, 200)\n",
    "contours = cv2.findContours(edged.copy(), cv2.RETR_TREE, cv2.CHAIN_APPROX_SIMPLE)\n",
    "contours = imutils.grab_contours(contours)\n",
    "contours = sorted(contours, key=cv2.contourArea, reverse=True)[:10]\n",
    "screenCnt = None"
   ]
  },
  {
   "cell_type": "code",
   "execution_count": 46,
   "id": "350fa280",
   "metadata": {},
   "outputs": [],
   "source": [
    "for c in contours:\n",
    "\n",
    "    peri = cv2.arcLength(c, True)\n",
    "    approx = cv2.approxPolyDP(c, 0.018 * peri, True)\n",
    "\n",
    "    if len(approx) == 4:\n",
    "        screenCnt = approx\n",
    "        break\n",
    "\n",
    "if screenCnt is None:\n",
    "    detected = 0\n",
    "    print(\"No contour detected\")\n",
    "else:\n",
    "    detected = 1\n",
    "\n",
    "if detected == 1:\n",
    "    cv2.drawContours(img, [screenCnt], -1, (0, 0, 255), 3)\n"
   ]
  },
  {
   "cell_type": "code",
   "execution_count": 47,
   "id": "49ca6b8b",
   "metadata": {},
   "outputs": [],
   "source": [
    "mask = np.zeros(gray.shape, np.uint8)\n",
    "new_image = cv2.drawContours(mask, [screenCnt], 0, 255, -1, )\n",
    "new_image = cv2.bitwise_and(img, img, mask=mask)\n",
    "#new_image"
   ]
  },
  {
   "cell_type": "code",
   "execution_count": 52,
   "id": "b116189e",
   "metadata": {},
   "outputs": [],
   "source": [
    "(x, y) = np.where(mask == 255)\n",
    "(topx, topy) = (np.min(x), np.min(y))\n",
    "(bottomx, bottomy) = (np.max(x), np.max(y))\n",
    "Cropped = gray[topx:bottomx + 1, topy:bottomy + 1]"
   ]
  },
  {
   "cell_type": "code",
   "execution_count": 53,
   "id": "aad492fc",
   "metadata": {},
   "outputs": [
    {
     "data": {
      "text/plain": [
       "'\\x0c'"
      ]
     },
     "execution_count": 53,
     "metadata": {},
     "output_type": "execute_result"
    }
   ],
   "source": [
    "config = \"--psm 7 -c tessedit_char_whitelist=0123456789KMT\"\n",
    "text = pytesseract.image_to_string(Cropped, config=config) \n",
    "#print(\"programming_fever's License Plate Recognition\\n\")\n",
    "#print(\"Detected license plate Number is:\", text)\n",
    "\n",
    "text"
   ]
  }
 ],
 "metadata": {
  "kernelspec": {
   "display_name": "Python 3 (ipykernel)",
   "language": "python",
   "name": "python3"
  },
  "language_info": {
   "codemirror_mode": {
    "name": "ipython",
    "version": 3
   },
   "file_extension": ".py",
   "mimetype": "text/x-python",
   "name": "python",
   "nbconvert_exporter": "python",
   "pygments_lexer": "ipython3",
   "version": "3.9.7"
  }
 },
 "nbformat": 4,
 "nbformat_minor": 5
}
